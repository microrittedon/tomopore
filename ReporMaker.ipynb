{
 "cells": [
  {
   "cell_type": "code",
   "execution_count": null,
   "metadata": {},
   "outputs": [],
   "source": [
    "import tomopore.pordiamdist as tp\n",
    "import numpy as np"
   ]
  },
  {
   "cell_type": "code",
   "execution_count": null,
   "metadata": {},
   "outputs": [],
   "source": [
    "PS = [10,20,30] #X\n",
    "NA = [50,100,150] #Y"
   ]
  },
  {
   "cell_type": "code",
   "execution_count": null,
   "metadata": {},
   "outputs": [],
   "source": [
    "im = tp.create_phantom(blobiness=6,porosity=0.1,pixel_size=PS[0])"
   ]
  },
  {
   "cell_type": "code",
   "execution_count": null,
   "metadata": {},
   "outputs": [],
   "source": [
    "tp.STDvisualisation(x=PS,y=NA)\n",
    "\n",
    "for na in NA:\n",
    "    sim = tp.create_sinogram(im,number_of_angles=na)\n",
    "    for ps in PS:\n",
    "        new_sim = tp.rescale_sim(sim, new_pixel_size=ps, origin_pixel_size=PS[0])\n",
    "        tp.reconstruction_parameters(number_of_angles=na,threshold = 0.4)\n",
    "        imr=tp.rescale(tp.reconstruct(new_sim))\n",
    "        STD = tp.distributions_of_diameters(im,imr,write_markdown=False)\n",
    "        tp.STDvisualisation.add_point(STD)"
   ]
  },
  {
   "cell_type": "code",
   "execution_count": null,
   "metadata": {},
   "outputs": [],
   "source": [
    "tp.STDvisualisation.show_3d_plot(x_label=\"Pixel Size\",y_label=\"number of angles\",savefig=True)"
   ]
  },
  {
   "cell_type": "code",
   "execution_count": null,
   "metadata": {},
   "outputs": [],
   "source": []
  }
 ],
 "metadata": {
  "kernelspec": {
   "display_name": "Python 3",
   "language": "python",
   "name": "python3"
  },
  "language_info": {
   "codemirror_mode": {
    "name": "ipython",
    "version": 3
   },
   "file_extension": ".py",
   "mimetype": "text/x-python",
   "name": "python",
   "nbconvert_exporter": "python",
   "pygments_lexer": "ipython3",
   "version": "3.6.6"
  }
 },
 "nbformat": 4,
 "nbformat_minor": 2
}
